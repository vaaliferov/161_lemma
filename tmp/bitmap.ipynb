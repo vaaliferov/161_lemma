{
 "cells": [
  {
   "cell_type": "code",
   "execution_count": null,
   "id": "a8dba6a2-baec-4240-9c24-ae670a87cb75",
   "metadata": {},
   "outputs": [],
   "source": [
    "pip install pyroaring"
   ]
  },
  {
   "cell_type": "code",
   "execution_count": null,
   "id": "dc2dd6b6-e1fc-45a5-be08-bfed94a1c8de",
   "metadata": {},
   "outputs": [],
   "source": [
    "pip install roaringbitmap"
   ]
  },
  {
   "cell_type": "code",
   "execution_count": 1,
   "id": "e5679263-0416-4a31-ad2d-1e1591a6cb8f",
   "metadata": {},
   "outputs": [
    {
     "name": "stdout",
     "output_type": "stream",
     "text": [
      "has 3: True\n",
      "has 4: False\n",
      "bm1       = BitMap([3, 18])\n",
      "bm2       = BitMap([3, 27, 42])\n",
      "bm1 & bm2 = BitMap([3])\n",
      "bm1 | bm2 = BitMap([3, 18, 27, 42])\n"
     ]
    }
   ],
   "source": [
    "from pyroaring import BitMap\n",
    "bm1 = BitMap()\n",
    "bm1.add(3)\n",
    "bm1.add(18)\n",
    "print(\"has 3:\", 3 in bm1)\n",
    "print(\"has 4:\", 4 in bm1)\n",
    "bm2 = BitMap([3, 27, 42])\n",
    "print(\"bm1       = %s\" % bm1)\n",
    "print(\"bm2       = %s\" % bm2)\n",
    "print(\"bm1 & bm2 = %s\" % (bm1&bm2))\n",
    "print(\"bm1 | bm2 = %s\" % (bm1|bm2))"
   ]
  },
  {
   "cell_type": "code",
   "execution_count": 1,
   "id": "346242db-7a84-48aa-afff-1079f389b351",
   "metadata": {},
   "outputs": [],
   "source": [
    "from pyroaring import BitMap\n",
    "# bm3 = BitMap(range(1,40000000))"
   ]
  },
  {
   "cell_type": "code",
   "execution_count": 2,
   "id": "7d3a719c-9c54-44f3-b2f9-ba45dbcedae4",
   "metadata": {},
   "outputs": [],
   "source": [
    "x = [BitMap(range(1,40000000)) for i in range(10000)]"
   ]
  },
  {
   "cell_type": "code",
   "execution_count": null,
   "id": "b22e11cb-230c-4048-9f4a-fb944eac8bcd",
   "metadata": {},
   "outputs": [],
   "source": []
  },
  {
   "cell_type": "code",
   "execution_count": 4,
   "id": "2cab36d0-d433-4172-a0ce-372fbf38a06e",
   "metadata": {},
   "outputs": [
    {
     "data": {
      "text/plain": [
       "RoaringBitmap({5, 6, 7, 8, 9})"
      ]
     },
     "execution_count": 4,
     "metadata": {},
     "output_type": "execute_result"
    }
   ],
   "source": [
    "from roaringbitmap import RoaringBitmap\n",
    "RoaringBitmap(range(10)) & RoaringBitmap(range(5, 15))"
   ]
  },
  {
   "cell_type": "code",
   "execution_count": 1,
   "id": "734062c1-ca16-4daf-9ace-1d747ef89e50",
   "metadata": {},
   "outputs": [],
   "source": [
    "from roaringbitmap import MultiRoaringBitmap\n",
    "mrb = MultiRoaringBitmap([range(1,40000000) for n in range(100000)], filename='index')"
   ]
  },
  {
   "cell_type": "code",
   "execution_count": 5,
   "id": "bece6b28-325a-43a2-84d3-1fe4ea5e45b3",
   "metadata": {},
   "outputs": [
    {
     "name": "stdout",
     "output_type": "stream",
     "text": [
      "106 ns ± 0.604 ns per loop (mean ± std. dev. of 7 runs, 10,000,000 loops each)\n"
     ]
    }
   ],
   "source": [
    "%timeit 5 in mrb[10000]"
   ]
  }
 ],
 "metadata": {
  "kernelspec": {
   "display_name": "dawg_env",
   "language": "python",
   "name": "dawg_env"
  },
  "language_info": {
   "codemirror_mode": {
    "name": "ipython",
    "version": 3
   },
   "file_extension": ".py",
   "mimetype": "text/x-python",
   "name": "python",
   "nbconvert_exporter": "python",
   "pygments_lexer": "ipython3",
   "version": "3.11.6"
  }
 },
 "nbformat": 4,
 "nbformat_minor": 5
}
