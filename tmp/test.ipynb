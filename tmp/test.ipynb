{
 "cells": [
  {
   "cell_type": "code",
   "execution_count": 1,
   "id": "859c329a-3b50-4c09-96d1-14d6a728abef",
   "metadata": {},
   "outputs": [],
   "source": [
    "import pandas as pd\n",
    "from lemma.morph import Morph"
   ]
  },
  {
   "cell_type": "code",
   "execution_count": 2,
   "id": "07cc9a24-eb23-451a-aae4-7fd4b7c0685a",
   "metadata": {},
   "outputs": [],
   "source": [
    "morph = Morph('data')"
   ]
  },
  {
   "cell_type": "code",
   "execution_count": 3,
   "id": "648a5836-10b6-482d-b1db-c729a85e9449",
   "metadata": {},
   "outputs": [
    {
     "data": {
      "text/plain": [
       "['осёл,1872,0,2,1872,0,12562', 'осел,5855,0,2,1479,0,3962']"
      ]
     },
     "execution_count": 3,
     "metadata": {},
     "output_type": "execute_result"
    }
   ],
   "source": [
    "morph.dwg.similar_items('осел')"
   ]
  },
  {
   "cell_type": "code",
   "execution_count": 4,
   "id": "a1cf54a6-0a1a-4f2d-bf85-bd129b5ee57a",
   "metadata": {},
   "outputs": [],
   "source": [
    "cols = ['word','tag','norm','tag_norm']"
   ]
  },
  {
   "cell_type": "code",
   "execution_count": 8,
   "id": "349fb778-0282-47f3-ae3a-382985d002e8",
   "metadata": {},
   "outputs": [
    {
     "data": {
      "text/html": [
       "<div>\n",
       "<style scoped>\n",
       "    .dataframe tbody tr th:only-of-type {\n",
       "        vertical-align: middle;\n",
       "    }\n",
       "\n",
       "    .dataframe tbody tr th {\n",
       "        vertical-align: top;\n",
       "    }\n",
       "\n",
       "    .dataframe thead th {\n",
       "        text-align: right;\n",
       "    }\n",
       "</style>\n",
       "<table border=\"1\" class=\"dataframe\">\n",
       "  <thead>\n",
       "    <tr style=\"text-align: right;\">\n",
       "      <th></th>\n",
       "      <th>word</th>\n",
       "      <th>tag</th>\n",
       "      <th>norm</th>\n",
       "      <th>tag_norm</th>\n",
       "    </tr>\n",
       "  </thead>\n",
       "  <tbody>\n",
       "    <tr>\n",
       "      <th>0</th>\n",
       "      <td>недоделал</td>\n",
       "      <td>VERB,perf,tran @ masc,sing,past,indc</td>\n",
       "      <td>недоделать</td>\n",
       "      <td>INFN,perf,tran @</td>\n",
       "    </tr>\n",
       "  </tbody>\n",
       "</table>\n",
       "</div>"
      ],
      "text/plain": [
       "        word                                   tag        norm  \\\n",
       "0  недоделал  VERB,perf,tran @ masc,sing,past,indc  недоделать   \n",
       "\n",
       "            tag_norm  \n",
       "0  INFN,perf,tran @   "
      ]
     },
     "execution_count": 8,
     "metadata": {},
     "output_type": "execute_result"
    }
   ],
   "source": [
    "pd.DataFrame(morph.search('недоделал'), columns=cols)"
   ]
  },
  {
   "cell_type": "code",
   "execution_count": 5,
   "id": "0d453ded-543f-429b-8781-6f642937a05f",
   "metadata": {},
   "outputs": [
    {
     "data": {
      "text/html": [
       "<div>\n",
       "<style scoped>\n",
       "    .dataframe tbody tr th:only-of-type {\n",
       "        vertical-align: middle;\n",
       "    }\n",
       "\n",
       "    .dataframe tbody tr th {\n",
       "        vertical-align: top;\n",
       "    }\n",
       "\n",
       "    .dataframe thead th {\n",
       "        text-align: right;\n",
       "    }\n",
       "</style>\n",
       "<table border=\"1\" class=\"dataframe\">\n",
       "  <thead>\n",
       "    <tr style=\"text-align: right;\">\n",
       "      <th></th>\n",
       "      <th>word</th>\n",
       "      <th>tag</th>\n",
       "      <th>norm</th>\n",
       "      <th>tag_norm</th>\n",
       "    </tr>\n",
       "  </thead>\n",
       "  <tbody>\n",
       "    <tr>\n",
       "      <th>0</th>\n",
       "      <td>осёл</td>\n",
       "      <td>NOUN,anim,masc @ sing,nomn</td>\n",
       "      <td>осёл</td>\n",
       "      <td>NOUN,anim,masc @ sing,nomn</td>\n",
       "    </tr>\n",
       "    <tr>\n",
       "      <th>1</th>\n",
       "      <td>осел</td>\n",
       "      <td>VERB,perf,intr @ masc,sing,past,indc</td>\n",
       "      <td>осесть</td>\n",
       "      <td>INFN,perf,intr @</td>\n",
       "    </tr>\n",
       "  </tbody>\n",
       "</table>\n",
       "</div>"
      ],
      "text/plain": [
       "   word                                   tag    norm  \\\n",
       "0  осёл            NOUN,anim,masc @ sing,nomn    осёл   \n",
       "1  осел  VERB,perf,intr @ masc,sing,past,indc  осесть   \n",
       "\n",
       "                     tag_norm  \n",
       "0  NOUN,anim,masc @ sing,nomn  \n",
       "1           INFN,perf,intr @   "
      ]
     },
     "execution_count": 5,
     "metadata": {},
     "output_type": "execute_result"
    }
   ],
   "source": [
    "pd.DataFrame(morph.search('осел'), columns=cols)"
   ]
  },
  {
   "cell_type": "code",
   "execution_count": 6,
   "id": "833e84eb-4b00-4d50-83b7-6b1e412b2b0b",
   "metadata": {},
   "outputs": [
    {
     "data": {
      "text/html": [
       "<div>\n",
       "<style scoped>\n",
       "    .dataframe tbody tr th:only-of-type {\n",
       "        vertical-align: middle;\n",
       "    }\n",
       "\n",
       "    .dataframe tbody tr th {\n",
       "        vertical-align: top;\n",
       "    }\n",
       "\n",
       "    .dataframe thead th {\n",
       "        text-align: right;\n",
       "    }\n",
       "</style>\n",
       "<table border=\"1\" class=\"dataframe\">\n",
       "  <thead>\n",
       "    <tr style=\"text-align: right;\">\n",
       "      <th></th>\n",
       "      <th>word</th>\n",
       "      <th>tag</th>\n",
       "      <th>norm</th>\n",
       "      <th>tag_norm</th>\n",
       "    </tr>\n",
       "  </thead>\n",
       "  <tbody>\n",
       "    <tr>\n",
       "      <th>0</th>\n",
       "      <td>озёра</td>\n",
       "      <td>NOUN,inan,neut @ plur,accs</td>\n",
       "      <td>озеро</td>\n",
       "      <td>NOUN,inan,neut @ sing,nomn</td>\n",
       "    </tr>\n",
       "    <tr>\n",
       "      <th>1</th>\n",
       "      <td>озёра</td>\n",
       "      <td>NOUN,inan,neut @ plur,nomn</td>\n",
       "      <td>озеро</td>\n",
       "      <td>NOUN,inan,neut @ sing,nomn</td>\n",
       "    </tr>\n",
       "    <tr>\n",
       "      <th>2</th>\n",
       "      <td>озера</td>\n",
       "      <td>NOUN,inan,neut @ sing,gent</td>\n",
       "      <td>озеро</td>\n",
       "      <td>NOUN,inan,neut @ sing,nomn</td>\n",
       "    </tr>\n",
       "  </tbody>\n",
       "</table>\n",
       "</div>"
      ],
      "text/plain": [
       "    word                         tag   norm                    tag_norm\n",
       "0  озёра  NOUN,inan,neut @ plur,accs  озеро  NOUN,inan,neut @ sing,nomn\n",
       "1  озёра  NOUN,inan,neut @ plur,nomn  озеро  NOUN,inan,neut @ sing,nomn\n",
       "2  озера  NOUN,inan,neut @ sing,gent  озеро  NOUN,inan,neut @ sing,nomn"
      ]
     },
     "execution_count": 6,
     "metadata": {},
     "output_type": "execute_result"
    }
   ],
   "source": [
    "pd.DataFrame(morph.search('озера'), columns=cols)"
   ]
  },
  {
   "cell_type": "code",
   "execution_count": 7,
   "id": "5eac5d41-9db4-4919-9532-73219bd9aed9",
   "metadata": {},
   "outputs": [
    {
     "data": {
      "text/html": [
       "<div>\n",
       "<style scoped>\n",
       "    .dataframe tbody tr th:only-of-type {\n",
       "        vertical-align: middle;\n",
       "    }\n",
       "\n",
       "    .dataframe tbody tr th {\n",
       "        vertical-align: top;\n",
       "    }\n",
       "\n",
       "    .dataframe thead th {\n",
       "        text-align: right;\n",
       "    }\n",
       "</style>\n",
       "<table border=\"1\" class=\"dataframe\">\n",
       "  <thead>\n",
       "    <tr style=\"text-align: right;\">\n",
       "      <th></th>\n",
       "      <th>word</th>\n",
       "      <th>tag</th>\n",
       "      <th>norm</th>\n",
       "      <th>tag_norm</th>\n",
       "    </tr>\n",
       "  </thead>\n",
       "  <tbody>\n",
       "    <tr>\n",
       "      <th>0</th>\n",
       "      <td>валерия</td>\n",
       "      <td>NOUN,anim,femn,Name @ sing,nomn</td>\n",
       "      <td>валерия</td>\n",
       "      <td>NOUN,anim,femn,Name @ sing,nomn</td>\n",
       "    </tr>\n",
       "    <tr>\n",
       "      <th>1</th>\n",
       "      <td>валерия</td>\n",
       "      <td>NOUN,anim,masc,Name @ sing,accs</td>\n",
       "      <td>валерий</td>\n",
       "      <td>NOUN,anim,masc,Name @ sing,nomn</td>\n",
       "    </tr>\n",
       "    <tr>\n",
       "      <th>2</th>\n",
       "      <td>валерия</td>\n",
       "      <td>NOUN,anim,masc,Name @ sing,gent</td>\n",
       "      <td>валерий</td>\n",
       "      <td>NOUN,anim,masc,Name @ sing,nomn</td>\n",
       "    </tr>\n",
       "  </tbody>\n",
       "</table>\n",
       "</div>"
      ],
      "text/plain": [
       "      word                              tag     norm  \\\n",
       "0  валерия  NOUN,anim,femn,Name @ sing,nomn  валерия   \n",
       "1  валерия  NOUN,anim,masc,Name @ sing,accs  валерий   \n",
       "2  валерия  NOUN,anim,masc,Name @ sing,gent  валерий   \n",
       "\n",
       "                          tag_norm  \n",
       "0  NOUN,anim,femn,Name @ sing,nomn  \n",
       "1  NOUN,anim,masc,Name @ sing,nomn  \n",
       "2  NOUN,anim,masc,Name @ sing,nomn  "
      ]
     },
     "execution_count": 7,
     "metadata": {},
     "output_type": "execute_result"
    }
   ],
   "source": [
    "pd.DataFrame(morph.search('валерия'), columns=cols)"
   ]
  },
  {
   "cell_type": "code",
   "execution_count": 8,
   "id": "341c0a26-5629-4f2b-a2dc-a8f51ca0b598",
   "metadata": {},
   "outputs": [
    {
     "data": {
      "text/html": [
       "<div>\n",
       "<style scoped>\n",
       "    .dataframe tbody tr th:only-of-type {\n",
       "        vertical-align: middle;\n",
       "    }\n",
       "\n",
       "    .dataframe tbody tr th {\n",
       "        vertical-align: top;\n",
       "    }\n",
       "\n",
       "    .dataframe thead th {\n",
       "        text-align: right;\n",
       "    }\n",
       "</style>\n",
       "<table border=\"1\" class=\"dataframe\">\n",
       "  <thead>\n",
       "    <tr style=\"text-align: right;\">\n",
       "      <th></th>\n",
       "      <th>word</th>\n",
       "      <th>tag</th>\n",
       "      <th>norm</th>\n",
       "      <th>tag_norm</th>\n",
       "    </tr>\n",
       "  </thead>\n",
       "  <tbody>\n",
       "    <tr>\n",
       "      <th>0</th>\n",
       "      <td>валерии</td>\n",
       "      <td>NOUN,anim,femn,Name @ plur,nomn</td>\n",
       "      <td>валерия</td>\n",
       "      <td>NOUN,anim,femn,Name @ sing,nomn</td>\n",
       "    </tr>\n",
       "    <tr>\n",
       "      <th>1</th>\n",
       "      <td>валерии</td>\n",
       "      <td>NOUN,anim,femn,Name @ sing,datv</td>\n",
       "      <td>валерия</td>\n",
       "      <td>NOUN,anim,femn,Name @ sing,nomn</td>\n",
       "    </tr>\n",
       "    <tr>\n",
       "      <th>2</th>\n",
       "      <td>валерии</td>\n",
       "      <td>NOUN,anim,femn,Name @ sing,gent</td>\n",
       "      <td>валерия</td>\n",
       "      <td>NOUN,anim,femn,Name @ sing,nomn</td>\n",
       "    </tr>\n",
       "    <tr>\n",
       "      <th>3</th>\n",
       "      <td>валерии</td>\n",
       "      <td>NOUN,anim,femn,Name @ sing,loct</td>\n",
       "      <td>валерия</td>\n",
       "      <td>NOUN,anim,femn,Name @ sing,nomn</td>\n",
       "    </tr>\n",
       "    <tr>\n",
       "      <th>4</th>\n",
       "      <td>валерии</td>\n",
       "      <td>NOUN,anim,masc,Name @ plur,nomn</td>\n",
       "      <td>валерий</td>\n",
       "      <td>NOUN,anim,masc,Name @ sing,nomn</td>\n",
       "    </tr>\n",
       "    <tr>\n",
       "      <th>5</th>\n",
       "      <td>валерии</td>\n",
       "      <td>NOUN,anim,masc,Name @ sing,loct</td>\n",
       "      <td>валерий</td>\n",
       "      <td>NOUN,anim,masc,Name @ sing,nomn</td>\n",
       "    </tr>\n",
       "  </tbody>\n",
       "</table>\n",
       "</div>"
      ],
      "text/plain": [
       "      word                              tag     norm  \\\n",
       "0  валерии  NOUN,anim,femn,Name @ plur,nomn  валерия   \n",
       "1  валерии  NOUN,anim,femn,Name @ sing,datv  валерия   \n",
       "2  валерии  NOUN,anim,femn,Name @ sing,gent  валерия   \n",
       "3  валерии  NOUN,anim,femn,Name @ sing,loct  валерия   \n",
       "4  валерии  NOUN,anim,masc,Name @ plur,nomn  валерий   \n",
       "5  валерии  NOUN,anim,masc,Name @ sing,loct  валерий   \n",
       "\n",
       "                          tag_norm  \n",
       "0  NOUN,anim,femn,Name @ sing,nomn  \n",
       "1  NOUN,anim,femn,Name @ sing,nomn  \n",
       "2  NOUN,anim,femn,Name @ sing,nomn  \n",
       "3  NOUN,anim,femn,Name @ sing,nomn  \n",
       "4  NOUN,anim,masc,Name @ sing,nomn  \n",
       "5  NOUN,anim,masc,Name @ sing,nomn  "
      ]
     },
     "execution_count": 8,
     "metadata": {},
     "output_type": "execute_result"
    }
   ],
   "source": [
    "pd.DataFrame(morph.search('валерии'), columns=cols)"
   ]
  },
  {
   "cell_type": "code",
   "execution_count": 9,
   "id": "70267be7-9205-434d-93ab-2e39c2460be6",
   "metadata": {},
   "outputs": [
    {
     "data": {
      "text/html": [
       "<div>\n",
       "<style scoped>\n",
       "    .dataframe tbody tr th:only-of-type {\n",
       "        vertical-align: middle;\n",
       "    }\n",
       "\n",
       "    .dataframe tbody tr th {\n",
       "        vertical-align: top;\n",
       "    }\n",
       "\n",
       "    .dataframe thead th {\n",
       "        text-align: right;\n",
       "    }\n",
       "</style>\n",
       "<table border=\"1\" class=\"dataframe\">\n",
       "  <thead>\n",
       "    <tr style=\"text-align: right;\">\n",
       "      <th></th>\n",
       "      <th>word</th>\n",
       "      <th>tag</th>\n",
       "      <th>norm</th>\n",
       "      <th>tag_norm</th>\n",
       "    </tr>\n",
       "  </thead>\n",
       "  <tbody>\n",
       "    <tr>\n",
       "      <th>0</th>\n",
       "      <td>надёжность</td>\n",
       "      <td>NOUN,inan,femn @ sing,accs</td>\n",
       "      <td>надёжность</td>\n",
       "      <td>NOUN,inan,femn @ sing,nomn</td>\n",
       "    </tr>\n",
       "    <tr>\n",
       "      <th>1</th>\n",
       "      <td>надёжность</td>\n",
       "      <td>NOUN,inan,femn @ sing,nomn</td>\n",
       "      <td>надёжность</td>\n",
       "      <td>NOUN,inan,femn @ sing,nomn</td>\n",
       "    </tr>\n",
       "  </tbody>\n",
       "</table>\n",
       "</div>"
      ],
      "text/plain": [
       "         word                         tag        norm  \\\n",
       "0  надёжность  NOUN,inan,femn @ sing,accs  надёжность   \n",
       "1  надёжность  NOUN,inan,femn @ sing,nomn  надёжность   \n",
       "\n",
       "                     tag_norm  \n",
       "0  NOUN,inan,femn @ sing,nomn  \n",
       "1  NOUN,inan,femn @ sing,nomn  "
      ]
     },
     "execution_count": 9,
     "metadata": {},
     "output_type": "execute_result"
    }
   ],
   "source": [
    "pd.DataFrame(morph.search('надёжность'), columns=cols)"
   ]
  },
  {
   "cell_type": "code",
   "execution_count": 10,
   "id": "79b6cc90-81db-46e0-ad5d-4b7c6f50f7b7",
   "metadata": {},
   "outputs": [
    {
     "data": {
      "text/html": [
       "<div>\n",
       "<style scoped>\n",
       "    .dataframe tbody tr th:only-of-type {\n",
       "        vertical-align: middle;\n",
       "    }\n",
       "\n",
       "    .dataframe tbody tr th {\n",
       "        vertical-align: top;\n",
       "    }\n",
       "\n",
       "    .dataframe thead th {\n",
       "        text-align: right;\n",
       "    }\n",
       "</style>\n",
       "<table border=\"1\" class=\"dataframe\">\n",
       "  <thead>\n",
       "    <tr style=\"text-align: right;\">\n",
       "      <th></th>\n",
       "      <th>word</th>\n",
       "      <th>tag</th>\n",
       "      <th>norm</th>\n",
       "      <th>tag_norm</th>\n",
       "    </tr>\n",
       "  </thead>\n",
       "  <tbody>\n",
       "    <tr>\n",
       "      <th>0</th>\n",
       "      <td>винду</td>\n",
       "      <td>NOUN,inan,femn,Infr @ sing,accs</td>\n",
       "      <td>винда</td>\n",
       "      <td>NOUN,inan,femn,Infr @ sing,nomn</td>\n",
       "    </tr>\n",
       "  </tbody>\n",
       "</table>\n",
       "</div>"
      ],
      "text/plain": [
       "    word                              tag   norm  \\\n",
       "0  винду  NOUN,inan,femn,Infr @ sing,accs  винда   \n",
       "\n",
       "                          tag_norm  \n",
       "0  NOUN,inan,femn,Infr @ sing,nomn  "
      ]
     },
     "execution_count": 10,
     "metadata": {},
     "output_type": "execute_result"
    }
   ],
   "source": [
    "pd.DataFrame(morph.search('винду'), columns=cols)"
   ]
  },
  {
   "cell_type": "code",
   "execution_count": 11,
   "id": "983eeb84-beb1-468f-af14-cca271e46482",
   "metadata": {},
   "outputs": [
    {
     "data": {
      "text/html": [
       "<div>\n",
       "<style scoped>\n",
       "    .dataframe tbody tr th:only-of-type {\n",
       "        vertical-align: middle;\n",
       "    }\n",
       "\n",
       "    .dataframe tbody tr th {\n",
       "        vertical-align: top;\n",
       "    }\n",
       "\n",
       "    .dataframe thead th {\n",
       "        text-align: right;\n",
       "    }\n",
       "</style>\n",
       "<table border=\"1\" class=\"dataframe\">\n",
       "  <thead>\n",
       "    <tr style=\"text-align: right;\">\n",
       "      <th></th>\n",
       "      <th>word</th>\n",
       "      <th>tag</th>\n",
       "      <th>norm</th>\n",
       "      <th>tag_norm</th>\n",
       "    </tr>\n",
       "  </thead>\n",
       "  <tbody>\n",
       "    <tr>\n",
       "      <th>0</th>\n",
       "      <td>сбола</td>\n",
       "      <td>NOUN,inan,masc,Abbr @ sing,gent</td>\n",
       "      <td>сбол</td>\n",
       "      <td>NOUN,inan,masc,Abbr @ sing,nomn</td>\n",
       "    </tr>\n",
       "  </tbody>\n",
       "</table>\n",
       "</div>"
      ],
      "text/plain": [
       "    word                              tag  norm  \\\n",
       "0  сбола  NOUN,inan,masc,Abbr @ sing,gent  сбол   \n",
       "\n",
       "                          tag_norm  \n",
       "0  NOUN,inan,masc,Abbr @ sing,nomn  "
      ]
     },
     "execution_count": 11,
     "metadata": {},
     "output_type": "execute_result"
    }
   ],
   "source": [
    "pd.DataFrame(morph.search('сбола'), columns=cols)"
   ]
  },
  {
   "cell_type": "code",
   "execution_count": 12,
   "id": "b8a8afbf-659c-45cf-a903-853be469a26c",
   "metadata": {},
   "outputs": [
    {
     "data": {
      "text/html": [
       "<div>\n",
       "<style scoped>\n",
       "    .dataframe tbody tr th:only-of-type {\n",
       "        vertical-align: middle;\n",
       "    }\n",
       "\n",
       "    .dataframe tbody tr th {\n",
       "        vertical-align: top;\n",
       "    }\n",
       "\n",
       "    .dataframe thead th {\n",
       "        text-align: right;\n",
       "    }\n",
       "</style>\n",
       "<table border=\"1\" class=\"dataframe\">\n",
       "  <thead>\n",
       "    <tr style=\"text-align: right;\">\n",
       "      <th></th>\n",
       "      <th>word</th>\n",
       "      <th>tag</th>\n",
       "      <th>norm</th>\n",
       "      <th>tag_norm</th>\n",
       "    </tr>\n",
       "  </thead>\n",
       "  <tbody>\n",
       "    <tr>\n",
       "      <th>0</th>\n",
       "      <td>фира</td>\n",
       "      <td>NOUN,anim,femn,Name @ sing,nomn</td>\n",
       "      <td>фира</td>\n",
       "      <td>NOUN,anim,femn,Name @ sing,nomn</td>\n",
       "    </tr>\n",
       "    <tr>\n",
       "      <th>1</th>\n",
       "      <td>фира</td>\n",
       "      <td>NOUN,inan,masc,Abbr @ sing,gent</td>\n",
       "      <td>фир</td>\n",
       "      <td>NOUN,inan,masc,Abbr @ sing,nomn</td>\n",
       "    </tr>\n",
       "  </tbody>\n",
       "</table>\n",
       "</div>"
      ],
      "text/plain": [
       "   word                              tag  norm  \\\n",
       "0  фира  NOUN,anim,femn,Name @ sing,nomn  фира   \n",
       "1  фира  NOUN,inan,masc,Abbr @ sing,gent   фир   \n",
       "\n",
       "                          tag_norm  \n",
       "0  NOUN,anim,femn,Name @ sing,nomn  \n",
       "1  NOUN,inan,masc,Abbr @ sing,nomn  "
      ]
     },
     "execution_count": 12,
     "metadata": {},
     "output_type": "execute_result"
    }
   ],
   "source": [
    "pd.DataFrame(morph.search('фира'), columns=cols)"
   ]
  },
  {
   "cell_type": "code",
   "execution_count": 13,
   "id": "89affd54-eb90-4220-9b4b-6fc76fa86a15",
   "metadata": {},
   "outputs": [
    {
     "data": {
      "text/html": [
       "<div>\n",
       "<style scoped>\n",
       "    .dataframe tbody tr th:only-of-type {\n",
       "        vertical-align: middle;\n",
       "    }\n",
       "\n",
       "    .dataframe tbody tr th {\n",
       "        vertical-align: top;\n",
       "    }\n",
       "\n",
       "    .dataframe thead th {\n",
       "        text-align: right;\n",
       "    }\n",
       "</style>\n",
       "<table border=\"1\" class=\"dataframe\">\n",
       "  <thead>\n",
       "    <tr style=\"text-align: right;\">\n",
       "      <th></th>\n",
       "      <th>word</th>\n",
       "      <th>tag</th>\n",
       "      <th>norm</th>\n",
       "      <th>tag_norm</th>\n",
       "    </tr>\n",
       "  </thead>\n",
       "  <tbody>\n",
       "    <tr>\n",
       "      <th>0</th>\n",
       "      <td>фир</td>\n",
       "      <td>NOUN,anim,femn,Name @ plur,accs</td>\n",
       "      <td>фира</td>\n",
       "      <td>NOUN,anim,femn,Name @ sing,nomn</td>\n",
       "    </tr>\n",
       "    <tr>\n",
       "      <th>1</th>\n",
       "      <td>фир</td>\n",
       "      <td>NOUN,anim,femn,Name @ plur,gent</td>\n",
       "      <td>фира</td>\n",
       "      <td>NOUN,anim,femn,Name @ sing,nomn</td>\n",
       "    </tr>\n",
       "    <tr>\n",
       "      <th>2</th>\n",
       "      <td>фир</td>\n",
       "      <td>NOUN,inan,masc,Abbr @ sing,accs</td>\n",
       "      <td>фир</td>\n",
       "      <td>NOUN,inan,masc,Abbr @ sing,nomn</td>\n",
       "    </tr>\n",
       "    <tr>\n",
       "      <th>3</th>\n",
       "      <td>фир</td>\n",
       "      <td>NOUN,inan,masc,Abbr @ sing,nomn</td>\n",
       "      <td>фир</td>\n",
       "      <td>NOUN,inan,masc,Abbr @ sing,nomn</td>\n",
       "    </tr>\n",
       "  </tbody>\n",
       "</table>\n",
       "</div>"
      ],
      "text/plain": [
       "  word                              tag  norm                         tag_norm\n",
       "0  фир  NOUN,anim,femn,Name @ plur,accs  фира  NOUN,anim,femn,Name @ sing,nomn\n",
       "1  фир  NOUN,anim,femn,Name @ plur,gent  фира  NOUN,anim,femn,Name @ sing,nomn\n",
       "2  фир  NOUN,inan,masc,Abbr @ sing,accs   фир  NOUN,inan,masc,Abbr @ sing,nomn\n",
       "3  фир  NOUN,inan,masc,Abbr @ sing,nomn   фир  NOUN,inan,masc,Abbr @ sing,nomn"
      ]
     },
     "execution_count": 13,
     "metadata": {},
     "output_type": "execute_result"
    }
   ],
   "source": [
    "pd.DataFrame(morph.search('фир'), columns=cols)"
   ]
  },
  {
   "cell_type": "code",
   "execution_count": 14,
   "id": "8de7a080-2924-4bd8-aa46-3951d4db2f0b",
   "metadata": {},
   "outputs": [
    {
     "name": "stdout",
     "output_type": "stream",
     "text": [
      "CPU times: user 730 ms, sys: 17.2 ms, total: 747 ms\n",
      "Wall time: 742 ms\n"
     ]
    }
   ],
   "source": [
    "%%time\n",
    "for _ in range(140000):\n",
    "    morph.search('надёжность')\n",
    "    # morph.dwg.similar_items('надёжность')"
   ]
  },
  {
   "cell_type": "code",
   "execution_count": 15,
   "id": "d0d89179-7b1a-4d4c-afae-9bf60344604a",
   "metadata": {},
   "outputs": [
    {
     "name": "stdout",
     "output_type": "stream",
     "text": [
      "4.0K\tdata/dict.custom.json\n",
      "402M\tdata/dict.opcorpora.xml\n",
      "8.0K\tdata/prefixes.txt\n",
      "172K\tdata/suffixes.txt\n",
      "220K\tdata/tags.txt\n",
      "11M\tdata/words.dawg\n"
     ]
    }
   ],
   "source": [
    "!du -h data/*"
   ]
  }
 ],
 "metadata": {
  "kernelspec": {
   "display_name": "dev",
   "language": "python",
   "name": "dev"
  },
  "language_info": {
   "codemirror_mode": {
    "name": "ipython",
    "version": 3
   },
   "file_extension": ".py",
   "mimetype": "text/x-python",
   "name": "python",
   "nbconvert_exporter": "python",
   "pygments_lexer": "ipython3",
   "version": "3.11.6"
  }
 },
 "nbformat": 4,
 "nbformat_minor": 5
}
